{
  "cells": [
    {
      "cell_type": "markdown",
      "metadata": {
        "id": "view-in-github",
        "colab_type": "text"
      },
      "source": [
        "<a href=\"https://colab.research.google.com/github/wgfoote/informing-decisions/blob/main/footnoteexample.ipynb\" target=\"_parent\"><img src=\"https://colab.research.google.com/assets/colab-badge.svg\" alt=\"Open In Colab\"/></a>"
      ]
    },
    {
      "cell_type": "markdown",
      "id": "5880697f",
      "metadata": {
        "id": "5880697f"
      },
      "source": [
        "[![Binder](https://mybinder.org/badge_logo.svg)](https://mybinder.org/v2/gist/tueda/c2a56ea8e0ba72890a2b886a162e4e2d/HEAD?labpath=FootnoteExample.ipynb)\n",
        "[![Open In Colab](https://colab.research.google.com/assets/colab-badge.svg)](http://colab.research.google.com/gist/tueda/c2a56ea8e0ba72890a2b886a162e4e2d/FootnoteExample.ipynb)"
      ]
    },
    {
      "cell_type": "markdown",
      "id": "52084b13",
      "metadata": {
        "id": "52084b13"
      },
      "source": [
        "This is an example of footnote.<a name=\"cite_ref-1\"></a>[<sup>[1]</sup>](#cite_note-1)"
      ]
    },
    {
      "cell_type": "markdown",
      "source": [],
      "metadata": {
        "id": "_ComvTbcMDyR"
      },
      "id": "_ComvTbcMDyR"
    },
    {
      "cell_type": "code",
      "execution_count": null,
      "id": "650eaac3",
      "metadata": {
        "id": "650eaac3"
      },
      "outputs": [],
      "source": []
    },
    {
      "cell_type": "code",
      "execution_count": null,
      "id": "096ef9ec",
      "metadata": {
        "id": "096ef9ec"
      },
      "outputs": [],
      "source": []
    },
    {
      "cell_type": "code",
      "execution_count": null,
      "id": "0f9fcc1c",
      "metadata": {
        "id": "0f9fcc1c"
      },
      "outputs": [],
      "source": []
    },
    {
      "cell_type": "code",
      "execution_count": null,
      "id": "d0659e93",
      "metadata": {
        "id": "d0659e93"
      },
      "outputs": [],
      "source": []
    },
    {
      "cell_type": "code",
      "execution_count": null,
      "id": "49271850",
      "metadata": {
        "id": "49271850"
      },
      "outputs": [],
      "source": []
    },
    {
      "cell_type": "code",
      "execution_count": null,
      "id": "a4e42400",
      "metadata": {
        "id": "a4e42400"
      },
      "outputs": [],
      "source": []
    },
    {
      "cell_type": "code",
      "execution_count": null,
      "id": "e1bc4f5a",
      "metadata": {
        "id": "e1bc4f5a"
      },
      "outputs": [],
      "source": []
    },
    {
      "cell_type": "code",
      "execution_count": null,
      "id": "3be35014",
      "metadata": {
        "id": "3be35014"
      },
      "outputs": [],
      "source": []
    },
    {
      "cell_type": "code",
      "execution_count": null,
      "id": "6dcb74f1",
      "metadata": {
        "id": "6dcb74f1"
      },
      "outputs": [],
      "source": []
    },
    {
      "cell_type": "code",
      "execution_count": null,
      "id": "bd2e9ee3",
      "metadata": {
        "id": "bd2e9ee3"
      },
      "outputs": [],
      "source": []
    },
    {
      "cell_type": "markdown",
      "id": "8c44f555",
      "metadata": {
        "id": "8c44f555"
      },
      "source": [
        "This is another example of footnote.<a name=\"cite_ref-2\"></a>[<sup>[2]</sup>](#cite_note-2)"
      ]
    },
    {
      "cell_type": "code",
      "execution_count": null,
      "id": "037244d4",
      "metadata": {
        "id": "037244d4"
      },
      "outputs": [],
      "source": []
    },
    {
      "cell_type": "code",
      "execution_count": null,
      "id": "35a483b6",
      "metadata": {
        "id": "35a483b6"
      },
      "outputs": [],
      "source": []
    },
    {
      "cell_type": "code",
      "execution_count": null,
      "id": "76a29b33",
      "metadata": {
        "id": "76a29b33"
      },
      "outputs": [],
      "source": []
    },
    {
      "cell_type": "code",
      "execution_count": null,
      "id": "b58de3b7",
      "metadata": {
        "id": "b58de3b7"
      },
      "outputs": [],
      "source": []
    },
    {
      "cell_type": "code",
      "execution_count": null,
      "id": "b9034a88",
      "metadata": {
        "id": "b9034a88"
      },
      "outputs": [],
      "source": []
    },
    {
      "cell_type": "code",
      "execution_count": null,
      "id": "765fd466",
      "metadata": {
        "id": "765fd466"
      },
      "outputs": [],
      "source": []
    },
    {
      "cell_type": "code",
      "execution_count": null,
      "id": "c213ceed",
      "metadata": {
        "id": "c213ceed"
      },
      "outputs": [],
      "source": []
    },
    {
      "cell_type": "code",
      "execution_count": null,
      "id": "82596b03",
      "metadata": {
        "id": "82596b03"
      },
      "outputs": [],
      "source": []
    },
    {
      "cell_type": "code",
      "execution_count": null,
      "id": "90c6cecd",
      "metadata": {
        "id": "90c6cecd"
      },
      "outputs": [],
      "source": []
    },
    {
      "cell_type": "code",
      "execution_count": null,
      "id": "2f1c7917",
      "metadata": {
        "id": "2f1c7917"
      },
      "outputs": [],
      "source": []
    },
    {
      "cell_type": "markdown",
      "id": "e9c34629",
      "metadata": {
        "id": "e9c34629"
      },
      "source": [
        "<a name=\"cite_note-1\"></a>1. [^](#cite_ref-1) footnote 1"
      ]
    },
    {
      "cell_type": "code",
      "execution_count": null,
      "id": "c6689dfb",
      "metadata": {
        "id": "c6689dfb"
      },
      "outputs": [],
      "source": []
    },
    {
      "cell_type": "code",
      "execution_count": null,
      "id": "9d26989e",
      "metadata": {
        "id": "9d26989e"
      },
      "outputs": [],
      "source": []
    },
    {
      "cell_type": "code",
      "execution_count": null,
      "id": "109ff374",
      "metadata": {
        "id": "109ff374"
      },
      "outputs": [],
      "source": []
    },
    {
      "cell_type": "code",
      "execution_count": null,
      "id": "2a6c7dad",
      "metadata": {
        "id": "2a6c7dad"
      },
      "outputs": [],
      "source": []
    },
    {
      "cell_type": "code",
      "execution_count": null,
      "id": "f9e3c7d5",
      "metadata": {
        "id": "f9e3c7d5"
      },
      "outputs": [],
      "source": []
    },
    {
      "cell_type": "code",
      "execution_count": null,
      "id": "5b4b0be0",
      "metadata": {
        "id": "5b4b0be0"
      },
      "outputs": [],
      "source": []
    },
    {
      "cell_type": "code",
      "execution_count": null,
      "id": "b1408d2b",
      "metadata": {
        "id": "b1408d2b"
      },
      "outputs": [],
      "source": []
    },
    {
      "cell_type": "code",
      "execution_count": null,
      "id": "d40fdc7e",
      "metadata": {
        "id": "d40fdc7e"
      },
      "outputs": [],
      "source": []
    },
    {
      "cell_type": "code",
      "execution_count": null,
      "id": "71c6357f",
      "metadata": {
        "id": "71c6357f"
      },
      "outputs": [],
      "source": []
    },
    {
      "cell_type": "code",
      "execution_count": null,
      "id": "9c62b2da",
      "metadata": {
        "id": "9c62b2da"
      },
      "outputs": [],
      "source": []
    },
    {
      "cell_type": "markdown",
      "id": "d561b528",
      "metadata": {
        "id": "d561b528"
      },
      "source": [
        "<a name=\"cite_note-2\"></a>2. [^](#cite_ref-2) footnote 2"
      ]
    },
    {
      "cell_type": "code",
      "execution_count": null,
      "id": "a78df422",
      "metadata": {
        "id": "a78df422"
      },
      "outputs": [],
      "source": []
    },
    {
      "cell_type": "code",
      "execution_count": null,
      "id": "2117de7f",
      "metadata": {
        "id": "2117de7f"
      },
      "outputs": [],
      "source": []
    },
    {
      "cell_type": "code",
      "execution_count": null,
      "id": "78d0aa08",
      "metadata": {
        "id": "78d0aa08"
      },
      "outputs": [],
      "source": []
    },
    {
      "cell_type": "code",
      "execution_count": null,
      "id": "d3d4af94",
      "metadata": {
        "id": "d3d4af94"
      },
      "outputs": [],
      "source": []
    },
    {
      "cell_type": "code",
      "execution_count": null,
      "id": "51d9e8dc",
      "metadata": {
        "id": "51d9e8dc"
      },
      "outputs": [],
      "source": []
    },
    {
      "cell_type": "code",
      "execution_count": null,
      "id": "87883ed5",
      "metadata": {
        "id": "87883ed5"
      },
      "outputs": [],
      "source": []
    },
    {
      "cell_type": "code",
      "execution_count": null,
      "id": "9f455c9b",
      "metadata": {
        "id": "9f455c9b"
      },
      "outputs": [],
      "source": []
    },
    {
      "cell_type": "code",
      "execution_count": null,
      "id": "bd3d5bf9",
      "metadata": {
        "id": "bd3d5bf9"
      },
      "outputs": [],
      "source": []
    },
    {
      "cell_type": "code",
      "execution_count": null,
      "id": "87f409ed",
      "metadata": {
        "id": "87f409ed"
      },
      "outputs": [],
      "source": []
    },
    {
      "cell_type": "code",
      "execution_count": null,
      "id": "f3b4c672",
      "metadata": {
        "id": "f3b4c672"
      },
      "outputs": [],
      "source": []
    }
  ],
  "metadata": {
    "kernelspec": {
      "display_name": "Python 3 (ipykernel)",
      "language": "python",
      "name": "python3"
    },
    "language_info": {
      "codemirror_mode": {
        "name": "ipython",
        "version": 3
      },
      "file_extension": ".py",
      "mimetype": "text/x-python",
      "name": "python",
      "nbconvert_exporter": "python",
      "pygments_lexer": "ipython3",
      "version": "3.7.12"
    },
    "colab": {
      "provenance": [],
      "include_colab_link": true
    }
  },
  "nbformat": 4,
  "nbformat_minor": 5
}